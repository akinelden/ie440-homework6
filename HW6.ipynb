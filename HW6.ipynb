{
 "cells": [
  {
   "cell_type": "markdown",
   "metadata": {},
   "outputs": [],
   "source": [
    "# Homework 6"
   ]
  },
  {
   "cell_type": "code",
   "metadata": {},
   "outputs": [],
   "source": [
    "import pandas as pd\n",
    "import numpy as np\n",
    "from sympy import Symbol, lambdify"
   ]
  },
  {
   "cell_type": "code",
   "metadata": {},
   "outputs": [],
   "source": [
    "train_data = pd.read_csv('Input/training.dat', sep=' ', header=None, names=['x', 'y']);\n",
    "test_data = pd.read_csv('Input/test.dat', sep=' ', header=None, names=['x', 'y']);\n",
    "\n",
    "x_train = np.array(train_data['x'])\n",
    "y_train = np.array(train_data['y'])\n",
    "\n",
    "w0 = Symbol(\"w0\")\n",
    "w1 = Symbol(\"w1\")\n",
    "w2 = Symbol(\"w2\")\n",
    "\n",
    "func_a = np.sum(np.square(y_train - w0 - w1 * x_train))\n",
    "f_a = lambdify([[w0, w1]], func_a, \"numpy\")\n",
    "gf_a = lambdify([[w0, w1]], func_a.diff([[w0, w1]]), \"numpy\")\n",
    "grad_fa = lambda x_arr : np.array(gf_a(x_arr), 'float64').reshape(1,len(x_arr))\n",
    "\n",
    "func_b = np.sum(np.square(y_train - w0 - w1 * x_train - w2 * x_train**2))\n",
    "f_b = lambdify([[w0, w1, w2]], func_b, \"numpy\")\n",
    "gf_b = lambdify([[w0, w1, w2]], func_b.diff([[w0, w1, w2]]), \"numpy\")\n",
    "grad_fb = lambda x_arr : np.array(gf_b(x_arr), 'float64').reshape(1,len(x_arr))"
   ]
  },
  {
   "cell_type": "markdown",
   "metadata": {},
   "outputs": [],
   "source": [
    "### Useful Functions"
   ]
  },
  {
   "cell_type": "code",
   "metadata": {},
   "outputs": [],
   "source": [
    "np_str = lambda x_k : np.array2string(x_k.reshape(len(x_k)), precision=3, separator=',')\n",
    "\n",
    "f_str = lambda x : \"{0:.4f}\".format(x)"
   ]
  },
  {
   "cell_type": "code",
   "metadata": {},
   "outputs": [],
   "source": [
    "class OutputTable:    \n",
    "    def __init__(self):\n",
    "        self.table = pd.DataFrame([],columns=['k', 'x^k', 'f(x^k)', 'd^k', 'a^k', 'x^k+1'])\n",
    "    def add_row(self, k, xk, fxk, dk, ak, xkp):\n",
    "        self.table.loc[len(self.table)] = [k, np_str(xk), f_str(fxk.item()), np_str(dk), ak, np_str(xkp)]\n",
    "    def print_latex(self):\n",
    "        print(self.table.to_latex(index=False))"
   ]
  },
  {
   "cell_type": "markdown",
   "metadata": {},
   "outputs": [],
   "source": [
    "## Part A : Least Square Method with Steepest Descent"
   ]
  },
  {
   "cell_type": "markdown",
   "metadata": {},
   "outputs": [],
   "source": [
    "### Exact Line Search"
   ]
  },
  {
   "cell_type": "code",
   "metadata": {},
   "outputs": [],
   "source": [
    "def BisectionMethod(f,epsilon, a=-100,b=100) :\n",
    "    iteration=0\n",
    "    while (b - a) >= epsilon:\n",
    "        x_1 = (a + b) / 2\n",
    "        fx_1 = f(x_1)\n",
    "        if f(x_1 + epsilon) <= fx_1:\n",
    "            a = x_1\n",
    "        else:\n",
    "            b = x_1\n",
    "        iteration+=1\n",
    "    x_star = (a+b)/2\n",
    "    return x_star\n",
    "\n",
    "def ExactLineSearch(f, x0, d, eps=0.0000001):\n",
    "    alpha = Symbol('alpha')\n",
    "    function_alpha = f(np.array(x0)+alpha*np.array(d))\n",
    "    f_alp = lambdify(alpha, function_alpha, 'numpy')\n",
    "    alp_star = BisectionMethod(f_alp, epsilon=eps)\n",
    "    return alp_star"
   ]
  },
  {
   "cell_type": "markdown",
   "metadata": {},
   "outputs": [],
   "source": [
    "### Steepest Descent Method"
   ]
  },
  {
   "cell_type": "code",
   "metadata": {},
   "outputs": [],
   "source": [
    "def steepestDescentMethod(f, grad_f, x_0, epsilon):\n",
    "    xk = np.array(x_0).reshape(2,1)\n",
    "    k = 0\n",
    "    stop = False\n",
    "    output = OutputTable()\n",
    "    while(stop == False):\n",
    "        d = - np.transpose(grad_f(xk))\n",
    "        if(np.linalg.norm(d) < epsilon):\n",
    "            stop = True\n",
    "        else:\n",
    "            a = ExactLineSearch(f,xk,d)\n",
    "            xkp = xk + a*d\n",
    "            output.add_row(k, xk, f(xk), d, a, xkp)\n",
    "            k += 1\n",
    "            xk = xkp\n",
    "    output.add_row(k,xk,f(xk),d,None,np.array([]))\n",
    "    return xk, np.asscalar(f(xk)), output"
   ]
  },
  {
   "cell_type": "code",
   "metadata": {},
   "outputs": [],
   "source": [
    "ws_a, fs_a, outputs_a = steepestDescentMethod(f_a, grad_fa, [0,0], 0.001)\n",
    "ws_a, fs_a"
   ]
  },
  {
   "cell_type": "code",
   "metadata": {},
   "outputs": [],
   "source": [
    "ws_b, fs_b, outputs_b = steepestDescentMethod(f_b, grad_fb, [0,0], 0.001)\n",
    "ws_b, fs_b"
   ]
  }
 ],
 "metadata": {
  "kernelspec": {
   "display_name": "Python 3",
   "language": "python",
   "name": "python3"
  },
  "language_info": {
   "codemirror_mode": {
    "name": "ipython",
    "version": 3
   },
   "file_extension": ".py",
   "mimetype": "text/x-python",
   "name": "python",
   "nbconvert_exporter": "python",
   "pygments_lexer": "ipython3",
   "version": "3.7.4"
  }
 },
 "nbformat": 4,
 "nbformat_minor": 2
}