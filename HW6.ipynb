{
 "cells": [
  {
   "cell_type": "markdown",
   "metadata": {},
   "source": [
    "# Homework 6"
   ]
  },
  {
   "cell_type": "code",
   "execution_count": 3,
   "metadata": {},
   "outputs": [],
   "source": [
    "import pandas as pd\n",
    "import numpy as np\n",
    "from sympy import Symbol, lambdify\n",
    "import pdb\n",
    "import math"
   ]
  },
  {
   "cell_type": "code",
   "execution_count": 4,
   "metadata": {},
   "outputs": [],
   "source": [
    "train_data = pd.read_csv('Input/training.dat', sep=' ', header=None, names=['x', 'y']);\n",
    "test_data = pd.read_csv('Input/test.dat', sep=' ', header=None, names=['x', 'y']);\n",
    "\n",
    "x_train = np.array(train_data['x'])\n",
    "y_train = np.array(train_data['y'])\n",
    "\n",
    "w0 = Symbol(\"w0\")\n",
    "w1 = Symbol(\"w1\")\n",
    "w2 = Symbol(\"w2\")\n",
    "\n",
    "func_a = np.sum(np.square(y_train - w0 - w1 * x_train))\n",
    "f_a = lambdify([[w0, w1]], func_a, \"numpy\")\n",
    "gf_a = lambdify([[w0, w1]], func_a.diff([[w0, w1]]), \"numpy\")\n",
    "grad_fa = lambda x_arr : np.array(gf_a(x_arr), 'float64').reshape(1,len(x_arr))\n",
    "\n",
    "func_b = np.sum(np.square(y_train - w0 - w1 * x_train - w2 * x_train**2))\n",
    "f_b = lambdify([[w0, w1, w2]], func_b, \"numpy\")\n",
    "gf_b = lambdify([[w0, w1, w2]], func_b.diff([[w0, w1, w2]]), \"numpy\")\n",
    "grad_fb = lambda x_arr : np.array(gf_b(x_arr), 'float64').reshape(1,len(x_arr))"
   ]
  },
  {
   "cell_type": "markdown",
   "metadata": {},
   "source": [
    "### Useful Functions"
   ]
  },
  {
   "cell_type": "code",
   "execution_count": 15,
   "metadata": {},
   "outputs": [],
   "source": [
    "np_str = lambda x_k : np.array2string(x_k.reshape(len(x_k)), precision=3, separator=',')\n",
    "\n",
    "f_str = lambda x : \"{0:.4f}\".format(x)"
   ]
  },
  {
   "cell_type": "code",
   "execution_count": 16,
   "metadata": {},
   "outputs": [],
   "source": [
    "class OutputTable:    \n",
    "    def __init__(self):\n",
    "        self.table = pd.DataFrame([],columns=['k', 'x^k', 'f(x^k)', 'd^k', 'a^k', 'x^k+1'])\n",
    "    def add_row(self, k, xk, fxk, dk, ak, xkp):\n",
    "        self.table.loc[len(self.table)] = [k, np_str(xk), f_str(fxk.item()), np_str(dk), ak, np_str(xkp)]\n",
    "    def print_latex(self):\n",
    "        print(self.table.to_latex(index=False))"
   ]
  },
  {
   "cell_type": "markdown",
   "metadata": {},
   "source": [
    "## Part A : Least Square Method with Steepest Descent"
   ]
  },
  {
   "cell_type": "markdown",
   "metadata": {},
   "source": [
    "### Exact Line Search"
   ]
  },
  {
   "cell_type": "code",
   "execution_count": 17,
   "metadata": {},
   "outputs": [],
   "source": [
    "def BisectionMethod(f,epsilon, a=-100,b=100) :\n",
    "    iteration=0\n",
    "    while (b - a) >= epsilon:\n",
    "        x_1 = (a + b) / 2\n",
    "        fx_1 = f(x_1)\n",
    "        if f(x_1 + epsilon) <= fx_1:\n",
    "            a = x_1\n",
    "        else:\n",
    "            b = x_1\n",
    "        iteration+=1\n",
    "    x_star = (a+b)/2\n",
    "    return x_star\n",
    "\n",
    "def ExactLineSearch(f, x0, d, eps=0.0000001):\n",
    "    alpha = Symbol('alpha')\n",
    "    function_alpha = f(np.array(x0)+alpha*np.array(d))\n",
    "    f_alp = lambdify(alpha, function_alpha, 'numpy')\n",
    "    alp_star = BisectionMethod(f_alp, epsilon=eps)\n",
    "    return alp_star"
   ]
  },
  {
   "cell_type": "markdown",
   "metadata": {},
   "source": [
    "### Steepest Descent Method"
   ]
  },
  {
   "cell_type": "code",
   "execution_count": 20,
   "metadata": {},
   "outputs": [],
   "source": [
    "def steepestDescentMethod(f, grad_f, x_0, epsilon):\n",
    "    xk = np.array(x_0).reshape(2,1)\n",
    "    k = 0\n",
    "    stop = False\n",
    "    output = OutputTable()\n",
    "    while(stop == False):\n",
    "        d = - np.transpose(grad_f(xk))\n",
    "        if(np.linalg.norm(d) < epsilon):\n",
    "            stop = True\n",
    "        else:\n",
    "            a = ExactLineSearch(f,xk,d)\n",
    "            xkp = xk + a*d\n",
    "            output.add_row(k, xk, f(xk), d, a, xkp)\n",
    "            k += 1\n",
    "            xk = xkp\n",
    "    output.add_row(k,xk,f(xk),d,None,np.array([]))\n",
    "    return xk, np.asscalar(f(xk)), output"
   ]
  },
  {
   "cell_type": "code",
   "execution_count": 19,
   "metadata": {},
   "outputs": [
    {
     "data": {
      "text/plain": [
       "array([[0],\n",
       "       [0]])"
      ]
     },
     "execution_count": 19,
     "metadata": {},
     "output_type": "execute_result"
    }
   ],
   "source": [
    "xk = np.array([0,0]).reshape(2,1)\n",
    "xk"
   ]
  },
  {
   "cell_type": "code",
   "execution_count": 433,
   "metadata": {},
   "outputs": [],
   "source": [
    "#ws_a, fs_a, outputs_a = steepestDescentMethod(f_a, grad_fa, [0,0], 0.001)\n",
    "#ws_a, fs_a"
   ]
  },
  {
   "cell_type": "code",
   "execution_count": null,
   "metadata": {},
   "outputs": [],
   "source": [
    "ws_b, fs_b, outputs_b = steepestDescentMethod(f_b, grad_fb, [0,0], 0.001)\n",
    "ws_b, fs_b"
   ]
  },
  {
   "cell_type": "markdown",
   "metadata": {},
   "source": [
    "## Part B : Nonlinear Regression:"
   ]
  },
  {
   "cell_type": "code",
   "execution_count": 104,
   "metadata": {},
   "outputs": [],
   "source": [
    "x_train = np.array(train_data['x'])\n",
    "y_train = np.array(train_data['y'])\n",
    "x_test = np.array(test_data['x'])\n",
    "y_test = np.array(test_data['y'])\n"
   ]
  },
  {
   "cell_type": "code",
   "execution_count": 100,
   "metadata": {},
   "outputs": [],
   "source": [
    "def backpropagation(input_data,label_data,learning_rate=0.5,alpha=0.9,epsilon=0.001,J=3):\n",
    "    epsilon=epsilon\n",
    "    t=0\n",
    "    x_train=input_data.reshape(100,1)\n",
    "    y_train=label_data.reshape(100,1)\n",
    "    all_data=np.full((100, 1), -1)\n",
    "    x_train=np.concatenate((all_data,x_train),axis=1)\n",
    "    weight_first=np.random.rand(J,2)\n",
    "    weight_second=np.random.rand(1,J+1)#2 hidden units\n",
    "    h=np.random.rand(100,J)\n",
    "    H=np.random.rand(100,J)\n",
    "    o=np.random.rand(100,1)\n",
    "    O=np.random.rand(100,1)\n",
    "    sigma_output=np.random.rand(100,1)\n",
    "    sigma_hidden=np.random.rand(100,J)\n",
    "    Error_value=0\n",
    "    delta_big=np.random.rand(1,J+1)\n",
    "    delta_small=np.random.rand(J,2)\n",
    "    while(True): \n",
    "        np.random.shuffle(x_train)     \n",
    "        for p in range(100):\n",
    "            \n",
    "            for j in range(J):\n",
    "                sum_first=0\n",
    "                for k in range(2):\n",
    "                    \n",
    "                    sum_first=sum_first+((weight_first[j,k]*x_train[p,k]))\n",
    "                h[p,j]=sum_first\n",
    "                H[p,j] = 1/(1+np.exp(-h[p,j]))\n",
    "            \n",
    "                \n",
    "            all_data_2=np.full((100,1),-1)\n",
    "            all_data_2=np.concatenate((all_data_2,H),axis=1)\n",
    "            H_with_zero=all_data_2\n",
    "\n",
    "            for i in range(1):\n",
    "                sum_second=0\n",
    "                for j in range(J+1):\n",
    "                    sum_second=sum_second+weight_second[i,j]*H_with_zero[p,j]\n",
    "                o[p,i]=sum_second\n",
    "                O[p,i]=o[p,i]\n",
    "            \n",
    "            \n",
    "            for i in range(1):\n",
    "                sigma_output[p,i]=y_train[p,i]-O[p,i]\n",
    "               \n",
    "            for j in range(J): \n",
    "                sum_third=0\n",
    "                for i in range(1):\n",
    "                    sum_third=sum_third+(weight_second[i,j]*sigma_output[p,i])\n",
    "               \n",
    "                sigma_hidden[p,j]=H[p,j]*(1-H[p,j])*sum_third\n",
    "                \n",
    "            for j in range(J+1):    \n",
    "                for i in range(1): \n",
    "                    delta_big[i,j]=learning_rate*sigma_output[p,i]*H_with_zero[p,j]\n",
    "                    weight_second[i,j]=weight_second[i,j]+delta_big[i,j]\n",
    "                    \n",
    "            for k in range(2):   \n",
    "                for j in range(J): \n",
    "                    \n",
    "                    delta_small[j,k]=learning_rate*sigma_hidden[p,j]*x_train[p,k]\n",
    "                    weight_first[j,k]=weight_first[j,k]+delta_small[j,k]\n",
    "                    \n",
    "        \n",
    "        \n",
    "        learning_rate=learning_rate*alpha\n",
    "        t=t+1\n",
    "        SSE=SSEFunction(O,y_train)\n",
    "        if learning_rate<epsilon:\n",
    "            break\n",
    "    return weight_first,weight_second,SSE,O\n"
   ]
  },
  {
   "cell_type": "code",
   "execution_count": 110,
   "metadata": {},
   "outputs": [],
   "source": [
    "def SSEFunction(y_pred,y):\n",
    "    summation = 0  #variable to store the summation of differences\n",
    "    n = len(y) #finding total number of items in list\n",
    "    for i in range (0,n):  #looping through each element of the list\n",
    "        difference = y_pred[i] - y[i]  #finding the difference between observed and predicted value\n",
    "        squared_difference = difference**2  #taking square of the differene \n",
    "        summation = summation + squared_difference  #taking a sum of all the differences\n",
    "    return summation \n",
    "        "
   ]
  },
  {
   "cell_type": "code",
   "execution_count": 111,
   "metadata": {},
   "outputs": [],
   "source": [
    "def S2_Function(y_pred,y,MSE):\n",
    "    summation = 0  #variable to store the summation of differences\n",
    "    summation\n",
    "    n = len(y) #finding total number of items in list\n",
    "    for i in range (0,n):  #looping through each element of the list\n",
    "        difference = y_pred[i] - y[i]  #finding the difference between observed and predicted value\n",
    "        squared_difference = difference**2  #taking square of the differene\n",
    "        squared_variance_difference=(MSE-squared_difference)**2\n",
    "        summation = summation + squared_variance_difference  #taking a sum of all the differences\n",
    "    return (summation/(n-1))\n",
    "    \n",
    "        "
   ]
  },
  {
   "cell_type": "code",
   "execution_count": 155,
   "metadata": {},
   "outputs": [],
   "source": [
    "def hidden_unit(input_data,label_data):\n",
    "    average_error_dict = {}\n",
    "    s2_dict = {}\n",
    "    q=1 #counter\n",
    "    J=3 #initial # of hidden units\n",
    "    Initial_error = np.infty\n",
    "    y_test=label_data.reshape(len(label_data),1)\n",
    "    while(True):\n",
    "        weight_1,weight_2,Error,y_pred=backpropagation(x_train,y_train,J=J)\n",
    "        SSE_test=SSEFunction(y_pred,y_test)\n",
    "        MSE_test=SSE_test/len(y_test)\n",
    "        s2_test=S2_Function(y_pred,y_test,MSE_test)\n",
    "        average_error_dict[J] = MSE_test\n",
    "        s2_dict[J] = s2_test\n",
    "        if(q>=2 and average_error_dict.get(J)>=average_error_dict.get(J-1)):\n",
    "            break\n",
    "        J+=1\n",
    "        q+=1\n",
    "    hidden_units=J-1    \n",
    "    return average_error_dict,s2_dict,hidden_units"
   ]
  },
  {
   "cell_type": "code",
   "execution_count": 190,
   "metadata": {},
   "outputs": [
    {
     "data": {
      "text/plain": [
       "({3: array([101070.38227941]),\n",
       "  4: array([100494.81445916]),\n",
       "  5: array([102398.01802062])},\n",
       " {3: array([1.79504934e+10]),\n",
       "  4: array([1.84215732e+10]),\n",
       "  5: array([1.70942441e+10])})"
      ]
     },
     "execution_count": 190,
     "metadata": {},
     "output_type": "execute_result"
    }
   ],
   "source": [
    "error_dict,std_dict,number_of_units=hidden_unit(x_test,y_test)\n",
    "error_dict,std_dict"
   ]
  },
  {
   "cell_type": "code",
   "execution_count": 191,
   "metadata": {},
   "outputs": [
    {
     "data": {
      "text/plain": [
       "4"
      ]
     },
     "execution_count": 191,
     "metadata": {},
     "output_type": "execute_result"
    }
   ],
   "source": [
    "number_of_units"
   ]
  }
 ],
 "metadata": {
  "kernelspec": {
   "display_name": "Python 3",
   "language": "python",
   "name": "python3"
  },
  "language_info": {
   "codemirror_mode": {
    "name": "ipython",
    "version": 3
   },
   "file_extension": ".py",
   "mimetype": "text/x-python",
   "name": "python",
   "nbconvert_exporter": "python",
   "pygments_lexer": "ipython3",
   "version": "3.7.4"
  }
 },
 "nbformat": 4,
 "nbformat_minor": 2
}
